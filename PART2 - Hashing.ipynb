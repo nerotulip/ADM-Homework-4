{
 "cells": [
  {
   "cell_type": "markdown",
   "metadata": {},
   "source": [
    "# Part 2 - HASHING "
   ]
  },
  {
   "cell_type": "markdown",
   "metadata": {},
   "source": [
    "Here we define a couple of __Hash Functions__, one that gives a hash value to the string _taking into account the position_ of the characters inside it, the other which _doesn't care about the order of characters_. Without considering the order of characters the hash function will give the _same value even to string that are not similar_, we'll put under the lights this aspect looking at the number of strings that are assigned to the same hash value."
   ]
  },
  {
   "cell_type": "code",
   "execution_count": 1,
   "metadata": {},
   "outputs": [],
   "source": [
    "def hashNopos(row): #function that does not give importance to the position of the character\n",
    "    value = 0 \n",
    "    for char in row: #for every character of the string\n",
    "        value += ord(char) #sum the unicode value of the char\n",
    "        \n",
    "    return value"
   ]
  },
  {
   "cell_type": "code",
   "execution_count": 2,
   "metadata": {},
   "outputs": [],
   "source": [
    "def hashPos(row): #function that maps two strings to the same hash only if they're exactly the same\n",
    "    value = 0\n",
    "    i = 0\n",
    "    for char in row:\n",
    "        value+=(ord(char))**i #we square the unicode value to the power of its position in the string\n",
    "        i+=1\n",
    "        \n",
    "    return value"
   ]
  },
  {
   "cell_type": "markdown",
   "metadata": {},
   "source": [
    "### Examples of the two functions"
   ]
  },
  {
   "cell_type": "code",
   "execution_count": 3,
   "metadata": {},
   "outputs": [
    {
     "name": "stdout",
     "output_type": "stream",
     "text": [
      "42376048071644360999889\n",
      "42374113039188503432153\n"
     ]
    }
   ],
   "source": [
    "print(hashPos('RogerFederer'))\n",
    "print(hashPos('FedererRoger'))"
   ]
  },
  {
   "cell_type": "code",
   "execution_count": 4,
   "metadata": {},
   "outputs": [
    {
     "name": "stdout",
     "output_type": "stream",
     "text": [
      "1067\n",
      "1067\n"
     ]
    }
   ],
   "source": [
    "print(hashNopos('RafaelNadal'))\n",
    "print(hashNopos('NadalRafael'))"
   ]
  },
  {
   "cell_type": "markdown",
   "metadata": {},
   "source": [
    "## Reading the original file and cutting the size"
   ]
  },
  {
   "cell_type": "code",
   "execution_count": 5,
   "metadata": {},
   "outputs": [],
   "source": [
    "with open('/Users/mattiasbasso/Downloads/passwords2.txt') as passwords:  #open psw txt file\n",
    "    for i in range(0,110000000,3): #pick one row every three - 110 million rows\n",
    "        riga = passwords.readline()\n",
    "        with open('reductPssw.txt', 'a') as smaller_file: #write every row in the new smaller txt file\n",
    "            smaller_file.write(riga)"
   ]
  },
  {
   "cell_type": "markdown",
   "metadata": {},
   "source": [
    "### Reading the new file"
   ]
  },
  {
   "cell_type": "code",
   "execution_count": 6,
   "metadata": {},
   "outputs": [],
   "source": [
    "with open('/Users/mattiasbasso/Downloads/reductPssw.txt', 'r') as passwords:  #open psw txt file\n",
    "    file = passwords.read().splitlines()"
   ]
  },
  {
   "cell_type": "markdown",
   "metadata": {},
   "source": [
    "## Creating the dictionaries "
   ]
  },
  {
   "cell_type": "markdown",
   "metadata": {},
   "source": [
    "We define here a dictionary that has the __hash values as keys__ and the __count__ of strings mapped to that key __as value__."
   ]
  },
  {
   "cell_type": "code",
   "execution_count": 7,
   "metadata": {},
   "outputs": [],
   "source": [
    "hashDict = {} #dictionary populated by hashes that don't give importance to the order of characters\n",
    "for row in file: #for each string in the file\n",
    "    h = hashNopos(row) \n",
    "    if(h in hashDict.keys()): #if the key is already in the dict add 1\n",
    "        hashDict[h] +=1\n",
    "    else:\n",
    "        hashDict[h] = 1 #no values, initialize to 1"
   ]
  },
  {
   "cell_type": "code",
   "execution_count": 8,
   "metadata": {},
   "outputs": [],
   "source": [
    "hashDictPos = {} #dictionary populated by hashes that give importance to the order of characters\n",
    "for row in file:\n",
    "    h = hashPos(row) \n",
    "    if(h in hashDictPos.keys()): #if the key is already in the dict add 1\n",
    "        hashDictPos[h] +=1\n",
    "    else:\n",
    "        hashDictPos[h] = 1 #no values, initialize to 1"
   ]
  },
  {
   "cell_type": "markdown",
   "metadata": {},
   "source": [
    "### Function to count the number of strings mapped to the same hash"
   ]
  },
  {
   "cell_type": "code",
   "execution_count": 9,
   "metadata": {},
   "outputs": [],
   "source": [
    "def countDuplicates (dictionary):\n",
    "    sumsbox = [] #empty list to fill with the numbers of duplicate strings\n",
    "    for key in dictionary.keys():\n",
    "        if(dictionary[key]>1): #if the counter is bigger than one - append the value\n",
    "            sumsbox.append(dictionary[key])\n",
    "    return (sum(sumsbox))\n",
    "            "
   ]
  },
  {
   "cell_type": "markdown",
   "metadata": {},
   "source": [
    "Here we can compare the difference in results between the two methods. We can say more about the __presence of duplicates__ in the original file, given that the _hash function which gives importance to the position of characters will say the \"truth\" about duplicates in the doc_. In fact the method that just sums up the unicode values of the characters is going to return many __False Positives__ , that we can easily compare to the result of the better hash function mentioned above."
   ]
  },
  {
   "cell_type": "markdown",
   "metadata": {},
   "source": [
    "__Length of the file - n° of strings__"
   ]
  },
  {
   "cell_type": "code",
   "execution_count": 10,
   "metadata": {},
   "outputs": [
    {
     "name": "stdout",
     "output_type": "stream",
     "text": [
      "36666667\n"
     ]
    }
   ],
   "source": [
    "print(len(file))"
   ]
  },
  {
   "cell_type": "markdown",
   "metadata": {},
   "source": [
    "Different keys with hashNopos"
   ]
  },
  {
   "cell_type": "code",
   "execution_count": 12,
   "metadata": {},
   "outputs": [
    {
     "name": "stdout",
     "output_type": "stream",
     "text": [
      "975\n"
     ]
    }
   ],
   "source": [
    "print(len(hashDict.keys()))"
   ]
  },
  {
   "cell_type": "markdown",
   "metadata": {},
   "source": [
    "Well, almost all the strings here end up with having a common hash number."
   ]
  },
  {
   "cell_type": "code",
   "execution_count": 11,
   "metadata": {},
   "outputs": [
    {
     "name": "stdout",
     "output_type": "stream",
     "text": [
      "36666633\n"
     ]
    }
   ],
   "source": [
    "print(countDuplicates(hashDict)) #n° duplicates with hashNoPos"
   ]
  },
  {
   "cell_type": "markdown",
   "metadata": {},
   "source": [
    "We can see that actually we __don't have any duplicate__ in the _.txt_ file analysed, as this function has created a different key for every row."
   ]
  },
  {
   "cell_type": "code",
   "execution_count": 13,
   "metadata": {},
   "outputs": [
    {
     "name": "stdout",
     "output_type": "stream",
     "text": [
      "36666667\n"
     ]
    }
   ],
   "source": [
    "print(len(hashDictPos.keys())) "
   ]
  },
  {
   "cell_type": "code",
   "execution_count": 15,
   "metadata": {},
   "outputs": [
    {
     "name": "stdout",
     "output_type": "stream",
     "text": [
      "0\n"
     ]
    }
   ],
   "source": [
    "print(countDuplicates(hashDictPos)) #n° duplicates with hashPos"
   ]
  }
 ],
 "metadata": {
  "kernelspec": {
   "display_name": "Python 3",
   "language": "python",
   "name": "python3"
  },
  "language_info": {
   "codemirror_mode": {
    "name": "ipython",
    "version": 3
   },
   "file_extension": ".py",
   "mimetype": "text/x-python",
   "name": "python",
   "nbconvert_exporter": "python",
   "pygments_lexer": "ipython3",
   "version": "3.6.2"
  }
 },
 "nbformat": 4,
 "nbformat_minor": 2
}
